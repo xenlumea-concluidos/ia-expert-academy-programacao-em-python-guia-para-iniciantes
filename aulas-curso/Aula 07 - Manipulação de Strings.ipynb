{
 "cells": [
  {
   "cell_type": "markdown",
   "metadata": {
    "id": "eJbkoKIhVtuf"
   },
   "source": [
    "# Manipulação de strings"
   ]
  },
  {
   "cell_type": "code",
   "execution_count": null,
   "metadata": {
    "colab": {
     "base_uri": "https://localhost:8080/"
    },
    "executionInfo": {
     "elapsed": 17,
     "status": "ok",
     "timestamp": 1663711705459,
     "user": {
      "displayName": "Emanuel Costa Conrado",
      "userId": "12627480053758516748"
     },
     "user_tz": 180
    },
    "id": "TspZ9SRGqF1l",
    "outputId": "a3afa937-fa63-4b42-f30a-ea03835fa728"
   },
   "outputs": [],
   "source": [
    "a = 'casaco'\n",
    "print(a)\n"
   ]
  },
  {
   "cell_type": "code",
   "execution_count": null,
   "metadata": {
    "colab": {
     "base_uri": "https://localhost:8080/"
    },
    "executionInfo": {
     "elapsed": 14,
     "status": "ok",
     "timestamp": 1663711705461,
     "user": {
      "displayName": "Emanuel Costa Conrado",
      "userId": "12627480053758516748"
     },
     "user_tz": 180
    },
    "id": "ECcuB0rPqNLV",
    "outputId": "021aca63-f9e2-4c0f-85e8-1775b8fb16fe"
   },
   "outputs": [],
   "source": [
    "maiuscula = a.upper()\n",
    "print(maiuscula)\n"
   ]
  },
  {
   "cell_type": "code",
   "execution_count": null,
   "metadata": {
    "colab": {
     "base_uri": "https://localhost:8080/",
     "height": 34
    },
    "executionInfo": {
     "elapsed": 1327,
     "status": "ok",
     "timestamp": 1593712451479,
     "user": {
      "displayName": "Jones Granatyr",
      "photoUrl": "https://lh3.googleusercontent.com/a-/AOh14Gj-HFBSchv13C5VeiDZcZd2tVCvD_pOSKexaPmQ=s64",
      "userId": "10042675233362078631"
     },
     "user_tz": 180
    },
    "id": "Y7ew8u5nqa0s",
    "outputId": "b5c433e1-4750-4185-9a79-9a0903f3c27f"
   },
   "outputs": [],
   "source": [
    "minuscula = maiuscula.lower()\n",
    "print(minuscula)\n"
   ]
  },
  {
   "cell_type": "code",
   "execution_count": null,
   "metadata": {
    "colab": {
     "base_uri": "https://localhost:8080/",
     "height": 34
    },
    "executionInfo": {
     "elapsed": 1012,
     "status": "ok",
     "timestamp": 1593712487772,
     "user": {
      "displayName": "Jones Granatyr",
      "photoUrl": "https://lh3.googleusercontent.com/a-/AOh14Gj-HFBSchv13C5VeiDZcZd2tVCvD_pOSKexaPmQ=s64",
      "userId": "10042675233362078631"
     },
     "user_tz": 180
    },
    "id": "_n4eG1K3qjIG",
    "outputId": "294a44e2-d48a-431e-8150-66fd9c97ef22"
   },
   "outputs": [],
   "source": [
    "capital = a.capitalize()\n",
    "print(capital)\n"
   ]
  },
  {
   "cell_type": "code",
   "execution_count": null,
   "metadata": {
    "colab": {
     "base_uri": "https://localhost:8080/"
    },
    "executionInfo": {
     "elapsed": 590,
     "status": "ok",
     "timestamp": 1663712187050,
     "user": {
      "displayName": "Emanuel Costa Conrado",
      "userId": "12627480053758516748"
     },
     "user_tz": 180
    },
    "id": "7cb8yYi_qukU",
    "outputId": "3f3e997e-cb76-4ffc-9287-a88ce4f431ba"
   },
   "outputs": [],
   "source": [
    "metade_palavra = a[0:4]\n",
    "print(metade_palavra)\n"
   ]
  },
  {
   "cell_type": "code",
   "execution_count": null,
   "metadata": {
    "colab": {
     "base_uri": "https://localhost:8080/",
     "height": 34
    },
    "executionInfo": {
     "elapsed": 1218,
     "status": "ok",
     "timestamp": 1593712630425,
     "user": {
      "displayName": "Jones Granatyr",
      "photoUrl": "https://lh3.googleusercontent.com/a-/AOh14Gj-HFBSchv13C5VeiDZcZd2tVCvD_pOSKexaPmQ=s64",
      "userId": "10042675233362078631"
     },
     "user_tz": 180
    },
    "id": "M0zabxMJrIfI",
    "outputId": "4f3d24ea-06e0-4aac-f01b-91cf54ca1f77"
   },
   "outputs": [],
   "source": [
    "ultimas_letras = a[3:]\n",
    "print(ultimas_letras)\n"
   ]
  },
  {
   "cell_type": "code",
   "execution_count": null,
   "metadata": {
    "colab": {
     "base_uri": "https://localhost:8080/",
     "height": 50
    },
    "executionInfo": {
     "elapsed": 1601,
     "status": "ok",
     "timestamp": 1593712690780,
     "user": {
      "displayName": "Jones Granatyr",
      "photoUrl": "https://lh3.googleusercontent.com/a-/AOh14Gj-HFBSchv13C5VeiDZcZd2tVCvD_pOSKexaPmQ=s64",
      "userId": "10042675233362078631"
     },
     "user_tz": 180
    },
    "id": "F4VyXvoWrT1y",
    "outputId": "eff6d4a9-8b44-4b76-a353-3e6eb2df6919"
   },
   "outputs": [],
   "source": [
    "b = a.replace('aco', 'inha')\n",
    "print(a)\n",
    "print(b)\n"
   ]
  },
  {
   "cell_type": "code",
   "execution_count": null,
   "metadata": {
    "colab": {
     "base_uri": "https://localhost:8080/",
     "height": 34
    },
    "executionInfo": {
     "elapsed": 1045,
     "status": "ok",
     "timestamp": 1593712743005,
     "user": {
      "displayName": "Jones Granatyr",
      "photoUrl": "https://lh3.googleusercontent.com/a-/AOh14Gj-HFBSchv13C5VeiDZcZd2tVCvD_pOSKexaPmQ=s64",
      "userId": "10042675233362078631"
     },
     "user_tz": 180
    },
    "id": "wKLt-VwLrk8F",
    "outputId": "c30a34f8-88f3-4cd2-a175-878fc282b838"
   },
   "outputs": [],
   "source": [
    "c = a.replace('o', 'a')\n",
    "print(c)\n"
   ]
  },
  {
   "cell_type": "code",
   "execution_count": null,
   "metadata": {
    "colab": {
     "base_uri": "https://localhost:8080/",
     "height": 34
    },
    "executionInfo": {
     "elapsed": 1282,
     "status": "ok",
     "timestamp": 1593712794724,
     "user": {
      "displayName": "Jones Granatyr",
      "photoUrl": "https://lh3.googleusercontent.com/a-/AOh14Gj-HFBSchv13C5VeiDZcZd2tVCvD_pOSKexaPmQ=s64",
      "userId": "10042675233362078631"
     },
     "user_tz": 180
    },
    "id": "2k0QLQmirwVa",
    "outputId": "bc51d4c7-0f16-467e-97a6-8e2a763bd8d5"
   },
   "outputs": [],
   "source": [
    "c.find('s')\n"
   ]
  },
  {
   "cell_type": "code",
   "execution_count": null,
   "metadata": {
    "colab": {
     "base_uri": "https://localhost:8080/",
     "height": 34
    },
    "executionInfo": {
     "elapsed": 1101,
     "status": "ok",
     "timestamp": 1593712819907,
     "user": {
      "displayName": "Jones Granatyr",
      "photoUrl": "https://lh3.googleusercontent.com/a-/AOh14Gj-HFBSchv13C5VeiDZcZd2tVCvD_pOSKexaPmQ=s64",
      "userId": "10042675233362078631"
     },
     "user_tz": 180
    },
    "id": "4NANRZUyr6Yu",
    "outputId": "306148fd-6fc6-4cdf-ed08-d8689b2a38fe"
   },
   "outputs": [],
   "source": [
    "c.find('a')\n"
   ]
  },
  {
   "cell_type": "code",
   "execution_count": null,
   "metadata": {
    "colab": {
     "base_uri": "https://localhost:8080/",
     "height": 34
    },
    "executionInfo": {
     "elapsed": 1004,
     "status": "ok",
     "timestamp": 1593712842668,
     "user": {
      "displayName": "Jones Granatyr",
      "photoUrl": "https://lh3.googleusercontent.com/a-/AOh14Gj-HFBSchv13C5VeiDZcZd2tVCvD_pOSKexaPmQ=s64",
      "userId": "10042675233362078631"
     },
     "user_tz": 180
    },
    "id": "HKvr0t0Ar_gH",
    "outputId": "493704a0-5337-4d39-a786-f774277affd2"
   },
   "outputs": [],
   "source": [
    "c.find('b')\n"
   ]
  },
  {
   "cell_type": "code",
   "execution_count": null,
   "metadata": {
    "colab": {
     "base_uri": "https://localhost:8080/",
     "height": 34
    },
    "executionInfo": {
     "elapsed": 986,
     "status": "ok",
     "timestamp": 1593712938939,
     "user": {
      "displayName": "Jones Granatyr",
      "photoUrl": "https://lh3.googleusercontent.com/a-/AOh14Gj-HFBSchv13C5VeiDZcZd2tVCvD_pOSKexaPmQ=s64",
      "userId": "10042675233362078631"
     },
     "user_tz": 180
    },
    "id": "fdYqKZ0bsQoH",
    "outputId": "4e653f85-9774-4728-ace1-0cbee2c47fbf"
   },
   "outputs": [],
   "source": [
    "e = ' casaco '\n",
    "print(len(e))\n"
   ]
  },
  {
   "cell_type": "code",
   "execution_count": null,
   "metadata": {
    "colab": {
     "base_uri": "https://localhost:8080/",
     "height": 34
    },
    "executionInfo": {
     "elapsed": 1248,
     "status": "ok",
     "timestamp": 1593712972689,
     "user": {
      "displayName": "Jones Granatyr",
      "photoUrl": "https://lh3.googleusercontent.com/a-/AOh14Gj-HFBSchv13C5VeiDZcZd2tVCvD_pOSKexaPmQ=s64",
      "userId": "10042675233362078631"
     },
     "user_tz": 180
    },
    "id": "Hk1OiifYsbwt",
    "outputId": "6c51d68c-3796-425a-d179-7f7f8716708e"
   },
   "outputs": [],
   "source": [
    "f = e.strip()\n",
    "print(f)\n"
   ]
  },
  {
   "cell_type": "code",
   "execution_count": null,
   "metadata": {
    "colab": {
     "base_uri": "https://localhost:8080/",
     "height": 34
    },
    "executionInfo": {
     "elapsed": 1168,
     "status": "ok",
     "timestamp": 1593712986511,
     "user": {
      "displayName": "Jones Granatyr",
      "photoUrl": "https://lh3.googleusercontent.com/a-/AOh14Gj-HFBSchv13C5VeiDZcZd2tVCvD_pOSKexaPmQ=s64",
      "userId": "10042675233362078631"
     },
     "user_tz": 180
    },
    "id": "Kalq5EZAsive",
    "outputId": "ecd99caa-df02-4b6d-e5c8-852efada9de5"
   },
   "outputs": [],
   "source": [
    "print(len(f))\n"
   ]
  },
  {
   "cell_type": "code",
   "execution_count": null,
   "metadata": {
    "id": "dAiQ-Tvvsq5w"
   },
   "outputs": [],
   "source": [
    "n1 = 14\n",
    "n2 = 16\n"
   ]
  },
  {
   "cell_type": "code",
   "execution_count": null,
   "metadata": {
    "colab": {
     "base_uri": "https://localhost:8080/",
     "height": 34
    },
    "executionInfo": {
     "elapsed": 1025,
     "status": "ok",
     "timestamp": 1593713094363,
     "user": {
      "displayName": "Jones Granatyr",
      "photoUrl": "https://lh3.googleusercontent.com/a-/AOh14Gj-HFBSchv13C5VeiDZcZd2tVCvD_pOSKexaPmQ=s64",
      "userId": "10042675233362078631"
     },
     "user_tz": 180
    },
    "id": "790k0NTEsuiq",
    "outputId": "300bfef5-574f-40ce-f374-b2c730c9df63"
   },
   "outputs": [],
   "source": [
    "print(f'Dividindo {n1} por {n2} o resultado é {n1/n2}')\n"
   ]
  }
 ],
 "metadata": {
  "colab": {
   "collapsed_sections": [],
   "provenance": [
    {
     "file_id": "1PDa_Rzh-YTi26fQKBWAJZhW0Pi2Qh5ZC",
     "timestamp": 1663711530824
    },
    {
     "file_id": "1xIGsiPX9FPOnNjrLtjMcL-ASUvkjjrJF",
     "timestamp": 1593712198273
    },
    {
     "file_id": "1APiL4QFlV7WGINk3Acxj8gWK6yNkdq5b",
     "timestamp": 1593623074274
    }
   ]
  },
  "kernelspec": {
   "display_name": "Python 3 (ipykernel)",
   "language": "python",
   "name": "python3"
  },
  "language_info": {
   "codemirror_mode": {
    "name": "ipython",
    "version": 3
   },
   "file_extension": ".py",
   "mimetype": "text/x-python",
   "name": "python",
   "nbconvert_exporter": "python",
   "pygments_lexer": "ipython3",
   "version": "3.9.13"
  },
  "vscode": {
   "interpreter": {
    "hash": "23b08cf4acd367b242f41e769d4c353ac3973bd82d0cc5234643523b1867f550"
   }
  }
 },
 "nbformat": 4,
 "nbformat_minor": 1
}
