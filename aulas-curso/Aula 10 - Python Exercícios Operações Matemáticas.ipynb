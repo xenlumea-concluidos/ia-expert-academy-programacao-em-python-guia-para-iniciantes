{
 "cells": [
  {
   "cell_type": "markdown",
   "metadata": {
    "id": "c9BudZ2gNE2n"
   },
   "source": [
    "# Exercício 1\n",
    "\n",
    "Ler dois números inteiros, executar e mostrar o resultado das seguintes operações: adição, subtração, multiplicação e divisão\n"
   ]
  },
  {
   "cell_type": "code",
   "execution_count": null,
   "metadata": {
    "colab": {
     "base_uri": "https://localhost:8080/"
    },
    "executionInfo": {
     "elapsed": 4650,
     "status": "ok",
     "timestamp": 1663879500619,
     "user": {
      "displayName": "Emanuel Costa Conrado",
      "userId": "12627480053758516748"
     },
     "user_tz": 180
    },
    "id": "iYgw0XGvM0Xz",
    "outputId": "40393741-f328-4a98-ec9c-f33d9359b404"
   },
   "outputs": [],
   "source": [
    "numero1 = int(input('Digite o primeiro número: '))\n",
    "numero2 = int(input('Digite o segundo número: '))\n"
   ]
  },
  {
   "cell_type": "code",
   "execution_count": null,
   "metadata": {
    "colab": {
     "base_uri": "https://localhost:8080/",
     "height": 34
    },
    "executionInfo": {
     "elapsed": 652,
     "status": "ok",
     "timestamp": 1594130191645,
     "user": {
      "displayName": "Jones Granatyr",
      "photoUrl": "https://lh3.googleusercontent.com/a-/AOh14Gj-HFBSchv13C5VeiDZcZd2tVCvD_pOSKexaPmQ=s64",
      "userId": "10042675233362078631"
     },
     "user_tz": 180
    },
    "id": "4iPC34bCkDUF",
    "outputId": "0d915457-890e-419a-dab2-9b16b2cb2af0"
   },
   "outputs": [],
   "source": [
    "print(numero1, numero2)\n"
   ]
  },
  {
   "cell_type": "code",
   "execution_count": null,
   "metadata": {
    "id": "Dy_UFha_Nb8o"
   },
   "outputs": [],
   "source": [
    "adicao = numero1 + numero2\n",
    "subtracao = numero1 - numero2\n",
    "multiplicacao = numero1 * numero2\n",
    "divisao = numero1 / numero2\n"
   ]
  },
  {
   "cell_type": "code",
   "execution_count": null,
   "metadata": {
    "colab": {
     "base_uri": "https://localhost:8080/",
     "height": 84
    },
    "executionInfo": {
     "elapsed": 587,
     "status": "ok",
     "timestamp": 1594130246372,
     "user": {
      "displayName": "Jones Granatyr",
      "photoUrl": "https://lh3.googleusercontent.com/a-/AOh14Gj-HFBSchv13C5VeiDZcZd2tVCvD_pOSKexaPmQ=s64",
      "userId": "10042675233362078631"
     },
     "user_tz": 180
    },
    "id": "59F8tj9qNnuF",
    "outputId": "d82092a9-3b8e-4d02-8adb-93b0aa075ed1"
   },
   "outputs": [],
   "source": [
    "print('Adição: ', adicao)\n",
    "print('Subtração: ', subtracao)\n",
    "print('Multiplicação: ', multiplicacao)\n",
    "print('Divisão: ', round(divisao, 2))\n"
   ]
  },
  {
   "cell_type": "markdown",
   "metadata": {
    "id": "QK3YAlgdN0t3"
   },
   "source": [
    "# Exercício 2\n",
    "\n",
    "Efetuar o cálculo da quantidade de litros de combustível gasto em uma viagem, utilizando um automóvel que faz 12 Km por litro. Para obter o cálculo, o usuário deve fornecer o tempo gasto na viagem e a velocidade média durante ela. Desta forma, será possível obter a distância percorrida com a fórmula DISTANCIA = TEMPO * VELOCIDADE. Tendo o valor da distância, basta calcular a quantidade de litros de combustível utilizada na viagem, com a fórmula: LITROS_USADOS = DISTANCIA / 12. O programa deve apresentar os valores da velocidade média, tempo gasto na viagem, a distância percorrida e a quantidade de litros utilizada na viagem"
   ]
  },
  {
   "cell_type": "code",
   "execution_count": null,
   "metadata": {
    "colab": {
     "base_uri": "https://localhost:8080/",
     "height": 50
    },
    "executionInfo": {
     "elapsed": 15353,
     "status": "ok",
     "timestamp": 1594130307075,
     "user": {
      "displayName": "Jones Granatyr",
      "photoUrl": "https://lh3.googleusercontent.com/a-/AOh14Gj-HFBSchv13C5VeiDZcZd2tVCvD_pOSKexaPmQ=s64",
      "userId": "10042675233362078631"
     },
     "user_tz": 180
    },
    "id": "FIz6i8_LOByQ",
    "outputId": "49ff91d1-77b7-4b93-dfe5-cbb3ab1a4a40"
   },
   "outputs": [],
   "source": [
    "tempo = float(input('Digite o tempo gasto na viagem: '))\n",
    "velocidade = float(input('Digite a velocidade média: '))\n"
   ]
  },
  {
   "cell_type": "code",
   "execution_count": null,
   "metadata": {
    "colab": {
     "base_uri": "https://localhost:8080/",
     "height": 34
    },
    "executionInfo": {
     "elapsed": 851,
     "status": "ok",
     "timestamp": 1594130316929,
     "user": {
      "displayName": "Jones Granatyr",
      "photoUrl": "https://lh3.googleusercontent.com/a-/AOh14Gj-HFBSchv13C5VeiDZcZd2tVCvD_pOSKexaPmQ=s64",
      "userId": "10042675233362078631"
     },
     "user_tz": 180
    },
    "id": "-GFuR-Vpkh6C",
    "outputId": "6d130c84-8e11-40ab-bcdd-64baf24af13d"
   },
   "outputs": [],
   "source": [
    "print(tempo, velocidade)\n"
   ]
  },
  {
   "cell_type": "code",
   "execution_count": null,
   "metadata": {
    "id": "g1-4CUlMORsU"
   },
   "outputs": [],
   "source": [
    "distancia = tempo * velocidade\n",
    "litros_usados = distancia / 12\n"
   ]
  },
  {
   "cell_type": "code",
   "execution_count": null,
   "metadata": {
    "colab": {
     "base_uri": "https://localhost:8080/",
     "height": 84
    },
    "executionInfo": {
     "elapsed": 722,
     "status": "ok",
     "timestamp": 1594130407570,
     "user": {
      "displayName": "Jones Granatyr",
      "photoUrl": "https://lh3.googleusercontent.com/a-/AOh14Gj-HFBSchv13C5VeiDZcZd2tVCvD_pOSKexaPmQ=s64",
      "userId": "10042675233362078631"
     },
     "user_tz": 180
    },
    "id": "9uVrqKjhOcAV",
    "outputId": "d9daf573-5b93-40ae-8125-515221edee49"
   },
   "outputs": [],
   "source": [
    "print('Velocidade média: ', velocidade)\n",
    "print('Tempo gasto na viagem: ', tempo)\n",
    "print('Distância percorrida:', distancia)\n",
    "print('Quantidade de litros:', round(litros_usados, 1))\n"
   ]
  }
 ],
 "metadata": {
  "colab": {
   "collapsed_sections": [],
   "provenance": [
    {
     "file_id": "1nMi12cfdRen1gkol2lMr0DvYidHK_S9W",
     "timestamp": 1663879454353
    }
   ]
  },
  "kernelspec": {
   "display_name": "Python 3 (ipykernel)",
   "language": "python",
   "name": "python3"
  },
  "language_info": {
   "codemirror_mode": {
    "name": "ipython",
    "version": 3
   },
   "file_extension": ".py",
   "mimetype": "text/x-python",
   "name": "python",
   "nbconvert_exporter": "python",
   "pygments_lexer": "ipython3",
   "version": "3.9.13"
  }
 },
 "nbformat": 4,
 "nbformat_minor": 1
}
