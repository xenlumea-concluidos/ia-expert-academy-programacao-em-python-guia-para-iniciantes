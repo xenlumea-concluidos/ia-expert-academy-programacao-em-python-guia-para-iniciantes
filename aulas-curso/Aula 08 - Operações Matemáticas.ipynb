{
 "cells": [
  {
   "cell_type": "markdown",
   "metadata": {
    "id": "Pqg-faI0Yfph"
   },
   "source": [
    "# Operações matemáticas"
   ]
  },
  {
   "cell_type": "markdown",
   "metadata": {
    "id": "OdCqxB8wZkNZ"
   },
   "source": [
    "## Operações matemáticas"
   ]
  },
  {
   "cell_type": "code",
   "execution_count": null,
   "metadata": {
    "colab": {
     "base_uri": "https://localhost:8080/"
    },
    "executionInfo": {
     "elapsed": 10,
     "status": "ok",
     "timestamp": 1663712659761,
     "user": {
      "displayName": "Emanuel Costa Conrado",
      "userId": "12627480053758516748"
     },
     "user_tz": 180
    },
    "id": "GjbDk0zuvZya",
    "outputId": "4b82fd90-69c4-448e-e563-3b1e0e72c10c",
    "vscode": {
     "languageId": "python"
    }
   },
   "outputs": [],
   "source": [
    "a = 5\n",
    "b = 3\n",
    "print(a, b)\n"
   ]
  },
  {
   "cell_type": "code",
   "execution_count": null,
   "metadata": {
    "colab": {
     "base_uri": "https://localhost:8080/",
     "height": 34
    },
    "executionInfo": {
     "elapsed": 741,
     "status": "ok",
     "timestamp": 1593713755094,
     "user": {
      "displayName": "Jones Granatyr",
      "photoUrl": "https://lh3.googleusercontent.com/a-/AOh14Gj-HFBSchv13C5VeiDZcZd2tVCvD_pOSKexaPmQ=s64",
      "userId": "10042675233362078631"
     },
     "user_tz": 180
    },
    "id": "f-FunDS2vey-",
    "outputId": "5dcf7052-160a-4047-df0a-0bb16380a312",
    "vscode": {
     "languageId": "python"
    }
   },
   "outputs": [],
   "source": [
    "a + b\n"
   ]
  },
  {
   "cell_type": "code",
   "execution_count": null,
   "metadata": {
    "colab": {
     "base_uri": "https://localhost:8080/",
     "height": 34
    },
    "executionInfo": {
     "elapsed": 751,
     "status": "ok",
     "timestamp": 1593713771719,
     "user": {
      "displayName": "Jones Granatyr",
      "photoUrl": "https://lh3.googleusercontent.com/a-/AOh14Gj-HFBSchv13C5VeiDZcZd2tVCvD_pOSKexaPmQ=s64",
      "userId": "10042675233362078631"
     },
     "user_tz": 180
    },
    "id": "goI2V927vhKY",
    "outputId": "3b2fa84b-93bf-4d30-dcd1-20da644a6ae1",
    "vscode": {
     "languageId": "python"
    }
   },
   "outputs": [],
   "source": [
    "print('A soma é', a + b)\n"
   ]
  },
  {
   "cell_type": "code",
   "execution_count": null,
   "metadata": {
    "colab": {
     "base_uri": "https://localhost:8080/",
     "height": 34
    },
    "executionInfo": {
     "elapsed": 713,
     "status": "ok",
     "timestamp": 1593713799498,
     "user": {
      "displayName": "Jones Granatyr",
      "photoUrl": "https://lh3.googleusercontent.com/a-/AOh14Gj-HFBSchv13C5VeiDZcZd2tVCvD_pOSKexaPmQ=s64",
      "userId": "10042675233362078631"
     },
     "user_tz": 180
    },
    "id": "yZk9zH7xvnA3",
    "outputId": "fb089831-697b-4437-e5bf-bfb75cba83d1",
    "vscode": {
     "languageId": "python"
    }
   },
   "outputs": [],
   "source": [
    "print('A subtração é', a - b)\n"
   ]
  },
  {
   "cell_type": "code",
   "execution_count": null,
   "metadata": {
    "colab": {
     "base_uri": "https://localhost:8080/",
     "height": 34
    },
    "executionInfo": {
     "elapsed": 692,
     "status": "ok",
     "timestamp": 1593713815299,
     "user": {
      "displayName": "Jones Granatyr",
      "photoUrl": "https://lh3.googleusercontent.com/a-/AOh14Gj-HFBSchv13C5VeiDZcZd2tVCvD_pOSKexaPmQ=s64",
      "userId": "10042675233362078631"
     },
     "user_tz": 180
    },
    "id": "fKFlQDMvvsFF",
    "outputId": "1721d204-1eac-490b-9ce8-f192be606636",
    "vscode": {
     "languageId": "python"
    }
   },
   "outputs": [],
   "source": [
    "print('A divisão é', a / b)\n"
   ]
  },
  {
   "cell_type": "code",
   "execution_count": null,
   "metadata": {
    "colab": {
     "base_uri": "https://localhost:8080/",
     "height": 34
    },
    "executionInfo": {
     "elapsed": 788,
     "status": "ok",
     "timestamp": 1593713834394,
     "user": {
      "displayName": "Jones Granatyr",
      "photoUrl": "https://lh3.googleusercontent.com/a-/AOh14Gj-HFBSchv13C5VeiDZcZd2tVCvD_pOSKexaPmQ=s64",
      "userId": "10042675233362078631"
     },
     "user_tz": 180
    },
    "id": "imRDwh3UvwPT",
    "outputId": "1cbb7246-8005-4337-fbfc-894bb3aaf3c2",
    "vscode": {
     "languageId": "python"
    }
   },
   "outputs": [],
   "source": [
    "print('A multiplicação é', a * b)\n"
   ]
  },
  {
   "cell_type": "code",
   "execution_count": null,
   "metadata": {
    "colab": {
     "base_uri": "https://localhost:8080/",
     "height": 34
    },
    "executionInfo": {
     "elapsed": 671,
     "status": "ok",
     "timestamp": 1593713887247,
     "user": {
      "displayName": "Jones Granatyr",
      "photoUrl": "https://lh3.googleusercontent.com/a-/AOh14Gj-HFBSchv13C5VeiDZcZd2tVCvD_pOSKexaPmQ=s64",
      "userId": "10042675233362078631"
     },
     "user_tz": 180
    },
    "id": "OE3QUcJSv1Lg",
    "outputId": "52c04c76-870e-41d4-f47d-36e799ec424f",
    "vscode": {
     "languageId": "python"
    }
   },
   "outputs": [],
   "source": [
    "print('O resto da divisão é', 10 % 3)\n"
   ]
  },
  {
   "cell_type": "code",
   "execution_count": null,
   "metadata": {
    "colab": {
     "base_uri": "https://localhost:8080/",
     "height": 34
    },
    "executionInfo": {
     "elapsed": 710,
     "status": "ok",
     "timestamp": 1593713971223,
     "user": {
      "displayName": "Jones Granatyr",
      "photoUrl": "https://lh3.googleusercontent.com/a-/AOh14Gj-HFBSchv13C5VeiDZcZd2tVCvD_pOSKexaPmQ=s64",
      "userId": "10042675233362078631"
     },
     "user_tz": 180
    },
    "id": "qO0vvLZvwMKx",
    "outputId": "151d399c-a175-4e57-bd5c-2af732a5190a",
    "vscode": {
     "languageId": "python"
    }
   },
   "outputs": [],
   "source": [
    "5 * 5 * 5 * 5\n"
   ]
  },
  {
   "cell_type": "code",
   "execution_count": null,
   "metadata": {
    "colab": {
     "base_uri": "https://localhost:8080/",
     "height": 34
    },
    "executionInfo": {
     "elapsed": 751,
     "status": "ok",
     "timestamp": 1593713957764,
     "user": {
      "displayName": "Jones Granatyr",
      "photoUrl": "https://lh3.googleusercontent.com/a-/AOh14Gj-HFBSchv13C5VeiDZcZd2tVCvD_pOSKexaPmQ=s64",
      "userId": "10042675233362078631"
     },
     "user_tz": 180
    },
    "id": "8njb8NSXwEO2",
    "outputId": "8041da9b-5ed9-4c17-f9ed-590a76e98d7b",
    "vscode": {
     "languageId": "python"
    }
   },
   "outputs": [],
   "source": [
    "print('5 elevado a 4 é', 5**4)\n"
   ]
  },
  {
   "cell_type": "code",
   "execution_count": null,
   "metadata": {
    "colab": {
     "base_uri": "https://localhost:8080/",
     "height": 34
    },
    "executionInfo": {
     "elapsed": 853,
     "status": "ok",
     "timestamp": 1593714028880,
     "user": {
      "displayName": "Jones Granatyr",
      "photoUrl": "https://lh3.googleusercontent.com/a-/AOh14Gj-HFBSchv13C5VeiDZcZd2tVCvD_pOSKexaPmQ=s64",
      "userId": "10042675233362078631"
     },
     "user_tz": 180
    },
    "id": "eL3w6bgmwYdy",
    "outputId": "0a2cfba6-566e-4796-cc80-b8703aa919c4",
    "vscode": {
     "languageId": "python"
    }
   },
   "outputs": [],
   "source": [
    "import math\n",
    "math.sqrt(81)\n"
   ]
  },
  {
   "cell_type": "markdown",
   "metadata": {
    "id": "qGlWtUpyZijE"
   },
   "source": [
    "## Arredondamento"
   ]
  },
  {
   "cell_type": "code",
   "execution_count": null,
   "metadata": {
    "colab": {
     "base_uri": "https://localhost:8080/",
     "height": 34
    },
    "executionInfo": {
     "elapsed": 765,
     "status": "ok",
     "timestamp": 1593714114738,
     "user": {
      "displayName": "Jones Granatyr",
      "photoUrl": "https://lh3.googleusercontent.com/a-/AOh14Gj-HFBSchv13C5VeiDZcZd2tVCvD_pOSKexaPmQ=s64",
      "userId": "10042675233362078631"
     },
     "user_tz": 180
    },
    "id": "k_X9_e0lwq--",
    "outputId": "da1fbd2e-3e01-4c55-eb73-94050c5fc491",
    "vscode": {
     "languageId": "python"
    }
   },
   "outputs": [],
   "source": [
    "casos_doenca = 134\n",
    "numero_habitantes = 34432\n",
    "casos_por_habitante = casos_doenca / numero_habitantes\n",
    "print(casos_por_habitante)\n"
   ]
  },
  {
   "cell_type": "code",
   "execution_count": null,
   "metadata": {
    "colab": {
     "base_uri": "https://localhost:8080/",
     "height": 34
    },
    "executionInfo": {
     "elapsed": 694,
     "status": "ok",
     "timestamp": 1593714144889,
     "user": {
      "displayName": "Jones Granatyr",
      "photoUrl": "https://lh3.googleusercontent.com/a-/AOh14Gj-HFBSchv13C5VeiDZcZd2tVCvD_pOSKexaPmQ=s64",
      "userId": "10042675233362078631"
     },
     "user_tz": 180
    },
    "id": "DZrPZvK7w5op",
    "outputId": "b329f495-b506-4760-c114-3e255f6ac59c",
    "vscode": {
     "languageId": "python"
    }
   },
   "outputs": [],
   "source": [
    "round(casos_por_habitante, 6)\n"
   ]
  },
  {
   "cell_type": "code",
   "execution_count": null,
   "metadata": {
    "colab": {
     "base_uri": "https://localhost:8080/",
     "height": 34
    },
    "executionInfo": {
     "elapsed": 702,
     "status": "ok",
     "timestamp": 1593714177040,
     "user": {
      "displayName": "Jones Granatyr",
      "photoUrl": "https://lh3.googleusercontent.com/a-/AOh14Gj-HFBSchv13C5VeiDZcZd2tVCvD_pOSKexaPmQ=s64",
      "userId": "10042675233362078631"
     },
     "user_tz": 180
    },
    "id": "LD--ZG0VxBPA",
    "outputId": "53c6e05b-02c0-4119-94c7-17f74babd11a",
    "vscode": {
     "languageId": "python"
    }
   },
   "outputs": [],
   "source": [
    "print('O número de casos por habitante é de', round(casos_por_habitante, 4))\n"
   ]
  }
 ],
 "metadata": {
  "colab": {
   "collapsed_sections": [],
   "provenance": [
    {
     "file_id": "1x7C9h_g9oMaKQqfx63PIxZFgTAuus9RI",
     "timestamp": 1663712516545
    },
    {
     "file_id": "15S15un8Za4T4VGmra3O7fBn4uQ9aRRyZ",
     "timestamp": 1593713648483
    },
    {
     "file_id": "1SsqhQGL0MFE8dTy78fgrJN90E6Szj6wK",
     "timestamp": 1593623683755
    }
   ]
  },
  "kernelspec": {
   "display_name": "Python 3 (ipykernel)",
   "language": "python",
   "name": "python3"
  },
  "language_info": {
   "codemirror_mode": {
    "name": "ipython",
    "version": 3
   },
   "file_extension": ".py",
   "mimetype": "text/x-python",
   "name": "python",
   "nbconvert_exporter": "python",
   "pygments_lexer": "ipython3",
   "version": "3.9.13"
  }
 },
 "nbformat": 4,
 "nbformat_minor": 1
}
