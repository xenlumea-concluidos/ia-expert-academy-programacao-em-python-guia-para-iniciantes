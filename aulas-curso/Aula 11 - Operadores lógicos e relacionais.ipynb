{
 "cells": [
  {
   "cell_type": "markdown",
   "metadata": {
    "id": "GY09z1-ia5g8"
   },
   "source": [
    "# Operadores lógicos e relacionais\n",
    "\n",
    "\n"
   ]
  },
  {
   "cell_type": "markdown",
   "metadata": {
    "id": "HI4JJHvBa8vR"
   },
   "source": [
    "## Operadores lógicos"
   ]
  },
  {
   "cell_type": "code",
   "execution_count": null,
   "metadata": {
    "id": "rzfRhacJ5SKw"
   },
   "outputs": [],
   "source": [
    "a = True\n",
    "b = False\n"
   ]
  },
  {
   "cell_type": "code",
   "execution_count": null,
   "metadata": {
    "colab": {
     "base_uri": "https://localhost:8080/",
     "height": 34
    },
    "executionInfo": {
     "elapsed": 949,
     "status": "ok",
     "timestamp": 1593716370987,
     "user": {
      "displayName": "Jones Granatyr",
      "photoUrl": "https://lh3.googleusercontent.com/a-/AOh14Gj-HFBSchv13C5VeiDZcZd2tVCvD_pOSKexaPmQ=s64",
      "userId": "10042675233362078631"
     },
     "user_tz": 180
    },
    "id": "4X7HAtz65dax",
    "outputId": "d1192e36-545a-480b-cc6f-12c04cb525e3"
   },
   "outputs": [],
   "source": [
    "print(a, b)\n"
   ]
  },
  {
   "cell_type": "code",
   "execution_count": null,
   "metadata": {
    "colab": {
     "base_uri": "https://localhost:8080/",
     "height": 34
    },
    "executionInfo": {
     "elapsed": 797,
     "status": "ok",
     "timestamp": 1593716412123,
     "user": {
      "displayName": "Jones Granatyr",
      "photoUrl": "https://lh3.googleusercontent.com/a-/AOh14Gj-HFBSchv13C5VeiDZcZd2tVCvD_pOSKexaPmQ=s64",
      "userId": "10042675233362078631"
     },
     "user_tz": 180
    },
    "id": "etBezuil5j5w",
    "outputId": "c453eefe-a93a-41cf-8df2-dc44e11ea1ee"
   },
   "outputs": [],
   "source": [
    "a and b\n"
   ]
  },
  {
   "cell_type": "code",
   "execution_count": null,
   "metadata": {
    "colab": {
     "base_uri": "https://localhost:8080/",
     "height": 34
    },
    "executionInfo": {
     "elapsed": 727,
     "status": "ok",
     "timestamp": 1593716435142,
     "user": {
      "displayName": "Jones Granatyr",
      "photoUrl": "https://lh3.googleusercontent.com/a-/AOh14Gj-HFBSchv13C5VeiDZcZd2tVCvD_pOSKexaPmQ=s64",
      "userId": "10042675233362078631"
     },
     "user_tz": 180
    },
    "id": "UtWISDG45rdf",
    "outputId": "b7c458c2-90d7-4c07-9ea1-a8a538ab1ec0"
   },
   "outputs": [],
   "source": [
    "a & b\n"
   ]
  },
  {
   "cell_type": "code",
   "execution_count": null,
   "metadata": {
    "colab": {
     "base_uri": "https://localhost:8080/",
     "height": 34
    },
    "executionInfo": {
     "elapsed": 709,
     "status": "ok",
     "timestamp": 1593716520300,
     "user": {
      "displayName": "Jones Granatyr",
      "photoUrl": "https://lh3.googleusercontent.com/a-/AOh14Gj-HFBSchv13C5VeiDZcZd2tVCvD_pOSKexaPmQ=s64",
      "userId": "10042675233362078631"
     },
     "user_tz": 180
    },
    "id": "V5z_jiGH5zpJ",
    "outputId": "d1ed4af0-c5fc-4840-ca3c-51c8615ff073"
   },
   "outputs": [],
   "source": [
    "c = a and b\n",
    "print(\"'A' e 'B' são iguais é\", c)\n"
   ]
  },
  {
   "cell_type": "code",
   "execution_count": null,
   "metadata": {
    "colab": {
     "base_uri": "https://localhost:8080/",
     "height": 34
    },
    "executionInfo": {
     "elapsed": 991,
     "status": "ok",
     "timestamp": 1593716558156,
     "user": {
      "displayName": "Jones Granatyr",
      "photoUrl": "https://lh3.googleusercontent.com/a-/AOh14Gj-HFBSchv13C5VeiDZcZd2tVCvD_pOSKexaPmQ=s64",
      "userId": "10042675233362078631"
     },
     "user_tz": 180
    },
    "id": "pYv-F6Uo6Jik",
    "outputId": "020666ad-4d96-4f3b-af21-5dfd831227b8"
   },
   "outputs": [],
   "source": [
    "a or b\n"
   ]
  },
  {
   "cell_type": "code",
   "execution_count": null,
   "metadata": {
    "colab": {
     "base_uri": "https://localhost:8080/",
     "height": 34
    },
    "executionInfo": {
     "elapsed": 766,
     "status": "ok",
     "timestamp": 1593716581583,
     "user": {
      "displayName": "Jones Granatyr",
      "photoUrl": "https://lh3.googleusercontent.com/a-/AOh14Gj-HFBSchv13C5VeiDZcZd2tVCvD_pOSKexaPmQ=s64",
      "userId": "10042675233362078631"
     },
     "user_tz": 180
    },
    "id": "IX_vZaDm6Pwf",
    "outputId": "1eb5921f-5e07-4bd8-a123-1b5c271b7e4e"
   },
   "outputs": [],
   "source": [
    "a | b\n"
   ]
  },
  {
   "cell_type": "code",
   "execution_count": null,
   "metadata": {
    "colab": {
     "base_uri": "https://localhost:8080/",
     "height": 34
    },
    "executionInfo": {
     "elapsed": 962,
     "status": "ok",
     "timestamp": 1593716632111,
     "user": {
      "displayName": "Jones Granatyr",
      "photoUrl": "https://lh3.googleusercontent.com/a-/AOh14Gj-HFBSchv13C5VeiDZcZd2tVCvD_pOSKexaPmQ=s64",
      "userId": "10042675233362078631"
     },
     "user_tz": 180
    },
    "id": "TtqH9SuN6WYc",
    "outputId": "632a407f-4d0c-409f-b775-396c78996f61"
   },
   "outputs": [],
   "source": [
    "d = a or b\n",
    "print(\"'A' ou 'B' é igual a\", d)\n"
   ]
  },
  {
   "cell_type": "code",
   "execution_count": null,
   "metadata": {
    "colab": {
     "base_uri": "https://localhost:8080/",
     "height": 34
    },
    "executionInfo": {
     "elapsed": 954,
     "status": "ok",
     "timestamp": 1593716656088,
     "user": {
      "displayName": "Jones Granatyr",
      "photoUrl": "https://lh3.googleusercontent.com/a-/AOh14Gj-HFBSchv13C5VeiDZcZd2tVCvD_pOSKexaPmQ=s64",
      "userId": "10042675233362078631"
     },
     "user_tz": 180
    },
    "id": "pEfaRFzZ6fNZ",
    "outputId": "bceb5136-9551-4e29-9f64-bea0e8aecd78"
   },
   "outputs": [],
   "source": [
    "not a\n"
   ]
  },
  {
   "cell_type": "code",
   "execution_count": null,
   "metadata": {
    "colab": {
     "base_uri": "https://localhost:8080/",
     "height": 34
    },
    "executionInfo": {
     "elapsed": 673,
     "status": "ok",
     "timestamp": 1593716665175,
     "user": {
      "displayName": "Jones Granatyr",
      "photoUrl": "https://lh3.googleusercontent.com/a-/AOh14Gj-HFBSchv13C5VeiDZcZd2tVCvD_pOSKexaPmQ=s64",
      "userId": "10042675233362078631"
     },
     "user_tz": 180
    },
    "id": "IIvESI1X6lrp",
    "outputId": "b7a13b2f-4ec8-4dda-8e19-05c2961af5c6"
   },
   "outputs": [],
   "source": [
    "not b\n"
   ]
  },
  {
   "cell_type": "markdown",
   "metadata": {
    "id": "dsJcxHQxcIdd"
   },
   "source": [
    "## Operadores relacionais"
   ]
  },
  {
   "cell_type": "code",
   "execution_count": null,
   "metadata": {
    "colab": {
     "base_uri": "https://localhost:8080/",
     "height": 34
    },
    "executionInfo": {
     "elapsed": 752,
     "status": "ok",
     "timestamp": 1593716688076,
     "user": {
      "displayName": "Jones Granatyr",
      "photoUrl": "https://lh3.googleusercontent.com/a-/AOh14Gj-HFBSchv13C5VeiDZcZd2tVCvD_pOSKexaPmQ=s64",
      "userId": "10042675233362078631"
     },
     "user_tz": 180
    },
    "id": "hV8lQ68M6osG",
    "outputId": "3dcaa35d-e2aa-44c3-c85e-637a0bec5440"
   },
   "outputs": [],
   "source": [
    "5 > 3\n"
   ]
  },
  {
   "cell_type": "code",
   "execution_count": null,
   "metadata": {
    "colab": {
     "base_uri": "https://localhost:8080/",
     "height": 34
    },
    "executionInfo": {
     "elapsed": 1227,
     "status": "ok",
     "timestamp": 1593716699362,
     "user": {
      "displayName": "Jones Granatyr",
      "photoUrl": "https://lh3.googleusercontent.com/a-/AOh14Gj-HFBSchv13C5VeiDZcZd2tVCvD_pOSKexaPmQ=s64",
      "userId": "10042675233362078631"
     },
     "user_tz": 180
    },
    "id": "bnrB8kMC6ttx",
    "outputId": "39a2bc6b-a5b0-4739-a923-0727c9d284e8"
   },
   "outputs": [],
   "source": [
    "5 < 3\n"
   ]
  },
  {
   "cell_type": "code",
   "execution_count": null,
   "metadata": {
    "colab": {
     "base_uri": "https://localhost:8080/",
     "height": 34
    },
    "executionInfo": {
     "elapsed": 720,
     "status": "ok",
     "timestamp": 1593716725198,
     "user": {
      "displayName": "Jones Granatyr",
      "photoUrl": "https://lh3.googleusercontent.com/a-/AOh14Gj-HFBSchv13C5VeiDZcZd2tVCvD_pOSKexaPmQ=s64",
      "userId": "10042675233362078631"
     },
     "user_tz": 180
    },
    "id": "TCupjJD86v6T",
    "outputId": "a947d770-914b-472e-efa9-f6cacedcaf92"
   },
   "outputs": [],
   "source": [
    "5 >= 5\n"
   ]
  },
  {
   "cell_type": "code",
   "execution_count": null,
   "metadata": {
    "colab": {
     "base_uri": "https://localhost:8080/",
     "height": 34
    },
    "executionInfo": {
     "elapsed": 782,
     "status": "ok",
     "timestamp": 1593716734679,
     "user": {
      "displayName": "Jones Granatyr",
      "photoUrl": "https://lh3.googleusercontent.com/a-/AOh14Gj-HFBSchv13C5VeiDZcZd2tVCvD_pOSKexaPmQ=s64",
      "userId": "10042675233362078631"
     },
     "user_tz": 180
    },
    "id": "HgmwL04662Pp",
    "outputId": "c805960b-25cf-49e5-99fb-f2d3f35a8928"
   },
   "outputs": [],
   "source": [
    "5 <= 3\n"
   ]
  },
  {
   "cell_type": "code",
   "execution_count": null,
   "metadata": {
    "colab": {
     "base_uri": "https://localhost:8080/",
     "height": 34
    },
    "executionInfo": {
     "elapsed": 790,
     "status": "ok",
     "timestamp": 1593716766398,
     "user": {
      "displayName": "Jones Granatyr",
      "photoUrl": "https://lh3.googleusercontent.com/a-/AOh14Gj-HFBSchv13C5VeiDZcZd2tVCvD_pOSKexaPmQ=s64",
      "userId": "10042675233362078631"
     },
     "user_tz": 180
    },
    "id": "n5Tagg3c65wR",
    "outputId": "b5207fa6-e187-4aa4-997f-39ee2059ac23"
   },
   "outputs": [],
   "source": [
    "5 == 3\n"
   ]
  },
  {
   "cell_type": "code",
   "execution_count": null,
   "metadata": {
    "colab": {
     "base_uri": "https://localhost:8080/",
     "height": 34
    },
    "executionInfo": {
     "elapsed": 864,
     "status": "ok",
     "timestamp": 1593716786074,
     "user": {
      "displayName": "Jones Granatyr",
      "photoUrl": "https://lh3.googleusercontent.com/a-/AOh14Gj-HFBSchv13C5VeiDZcZd2tVCvD_pOSKexaPmQ=s64",
      "userId": "10042675233362078631"
     },
     "user_tz": 180
    },
    "id": "1fAPptVK7Bu_",
    "outputId": "17cf4eca-8eea-4801-ca11-33019f7f251a"
   },
   "outputs": [],
   "source": [
    "5 != 3\n"
   ]
  }
 ],
 "metadata": {
  "colab": {
   "collapsed_sections": [],
   "provenance": [
    {
     "file_id": "1tI457d3VjWIPXWF5ysGyja2GQq9yQ5Nd",
     "timestamp": 1663880523478
    },
    {
     "file_id": "1svmnoB8-LbKq7wOeKFm3eY-Hwz3LjF-9",
     "timestamp": 1593714740509
    },
    {
     "file_id": "1cZg22AyLk_I29wXsjWSpH32JgC0D0Rr-",
     "timestamp": 1593624437880
    },
    {
     "file_id": "1goCuS1WMeb3t25uJ8ccf3j1rAFo0ijin",
     "timestamp": 1589846345219
    }
   ]
  },
  "kernelspec": {
   "display_name": "Python 3 (ipykernel)",
   "language": "python",
   "name": "python3"
  },
  "language_info": {
   "codemirror_mode": {
    "name": "ipython",
    "version": 3
   },
   "file_extension": ".py",
   "mimetype": "text/x-python",
   "name": "python",
   "nbconvert_exporter": "python",
   "pygments_lexer": "ipython3",
   "version": "3.9.7"
  },
  "vscode": {
   "interpreter": {
    "hash": "23b08cf4acd367b242f41e769d4c353ac3973bd82d0cc5234643523b1867f550"
   }
  }
 },
 "nbformat": 4,
 "nbformat_minor": 1
}
