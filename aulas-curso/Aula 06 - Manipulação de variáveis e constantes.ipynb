{
 "cells": [
  {
   "cell_type": "markdown",
   "metadata": {
    "id": "V8QjcFa6R5y2"
   },
   "source": [
    "# Manipulação de variáveis e constantes"
   ]
  },
  {
   "cell_type": "markdown",
   "metadata": {
    "id": "vpSo8ozVTLCo"
   },
   "source": [
    "## Variáveis e constantes\n",
    "\n",
    "- Por meio de variáveis que um algortimo “guarda” os dados do problema\n",
    "- Todo dado que tem a possibilidade de ser alterado no decorrer do tempo deverá ser tratado como uma variável\n",
    "- Quando um dado não tem nenhuma possibilidade de variar no decorrer do tempo, deverá ser tratado como constante\n",
    "\n",
    "Exemplo: calcular a área de um triângulo. Sabemos que a fórmula para o cálculo da área de um triângulo é BASE * ALTURA / 2. **Base** e **altura** são dados que irão variar no decorrer do “tempo de execução”. O número 2 da fórmula é um dado constante, pois sempre terá o mesmo valor\n",
    "\n",
    "## Tipo de variáveis\n",
    "\n",
    "- Inteiros: valores positivos ou negativos, que não possuem uma parte fracionária. Exemplos: 1, 30, 40, 12, -50\n",
    "- Float (real): valores positivos ou negativos, que podem possuir uma parte fracionária (também podem ser inteiros). Exemplos: 1.4, 6.7, 10.3, 100, -47\n",
    "- Caracteres (char ou string): qualquer elemento presente no teclado. Exemplos: “Maria”, “João”, ‘M’, ‘F’\n",
    "- Lógico (boleano): verdadeiro ou falso. Exemplos: true, false, 1, 0"
   ]
  },
  {
   "cell_type": "markdown",
   "metadata": {
    "id": "dJuQ83faR_Pc"
   },
   "source": [
    "## Variáveis inteiras"
   ]
  },
  {
   "cell_type": "code",
   "execution_count": null,
   "metadata": {
    "id": "AlNS5Ngsm_dB"
   },
   "outputs": [],
   "source": [
    "numero = -3\n",
    "numero_jogos = 14\n",
    "numero_convidados = 15\n"
   ]
  },
  {
   "cell_type": "code",
   "execution_count": null,
   "metadata": {
    "colab": {
     "base_uri": "https://localhost:8080/",
     "height": 34
    },
    "executionInfo": {
     "elapsed": 799,
     "status": "ok",
     "timestamp": 1593711588290,
     "user": {
      "displayName": "Jones Granatyr",
      "photoUrl": "https://lh3.googleusercontent.com/a-/AOh14Gj-HFBSchv13C5VeiDZcZd2tVCvD_pOSKexaPmQ=s64",
      "userId": "10042675233362078631"
     },
     "user_tz": 180
    },
    "id": "h11ASYEknOD1",
    "outputId": "09ccff4b-8abc-4412-e838-c1bfbd4ed70e"
   },
   "outputs": [],
   "source": [
    "numero\n"
   ]
  },
  {
   "cell_type": "code",
   "execution_count": null,
   "metadata": {
    "colab": {
     "base_uri": "https://localhost:8080/",
     "height": 34
    },
    "executionInfo": {
     "elapsed": 1141,
     "status": "ok",
     "timestamp": 1593711599819,
     "user": {
      "displayName": "Jones Granatyr",
      "photoUrl": "https://lh3.googleusercontent.com/a-/AOh14Gj-HFBSchv13C5VeiDZcZd2tVCvD_pOSKexaPmQ=s64",
      "userId": "10042675233362078631"
     },
     "user_tz": 180
    },
    "id": "c8kmjtIinQNi",
    "outputId": "8492b50a-aa97-4e8f-d716-cfb81c7cef6c"
   },
   "outputs": [],
   "source": [
    "print(numero)\n"
   ]
  },
  {
   "cell_type": "code",
   "execution_count": null,
   "metadata": {
    "colab": {
     "base_uri": "https://localhost:8080/",
     "height": 34
    },
    "executionInfo": {
     "elapsed": 883,
     "status": "ok",
     "timestamp": 1593711637187,
     "user": {
      "displayName": "Jones Granatyr",
      "photoUrl": "https://lh3.googleusercontent.com/a-/AOh14Gj-HFBSchv13C5VeiDZcZd2tVCvD_pOSKexaPmQ=s64",
      "userId": "10042675233362078631"
     },
     "user_tz": 180
    },
    "id": "KP0Wt0yynY7b",
    "outputId": "485cae45-969d-48a3-f4e8-86be9db7c1e7"
   },
   "outputs": [],
   "source": [
    "print(numero, numero_convidados)\n"
   ]
  },
  {
   "cell_type": "markdown",
   "metadata": {
    "id": "JhCsz7fBSQ8E"
   },
   "source": [
    "## Variáveis float (ponto flutuante)"
   ]
  },
  {
   "cell_type": "code",
   "execution_count": null,
   "metadata": {
    "id": "wNQq80punev_"
   },
   "outputs": [],
   "source": [
    "pi = 3.14\n",
    "numero_euler = 2.71\n",
    "escala_terremoto = -4.55\n"
   ]
  },
  {
   "cell_type": "code",
   "execution_count": null,
   "metadata": {
    "colab": {
     "base_uri": "https://localhost:8080/",
     "height": 200
    },
    "executionInfo": {
     "elapsed": 10,
     "status": "error",
     "timestamp": 1663711211338,
     "user": {
      "displayName": "Emanuel Costa Conrado",
      "userId": "12627480053758516748"
     },
     "user_tz": 180
    },
    "id": "yusfNXQ2nmCv",
    "outputId": "89e22f4c-47f0-46c1-91e6-8c5ceaee2182"
   },
   "outputs": [],
   "source": [
    "print(pi)\n",
    "print(numero_euler)\n",
    "print(escala_terremoto)\n"
   ]
  },
  {
   "cell_type": "markdown",
   "metadata": {
    "id": "fCiZKeOFSwig"
   },
   "source": [
    "## Strings e chars"
   ]
  },
  {
   "cell_type": "code",
   "execution_count": null,
   "metadata": {
    "id": "yvccp63ZnvEZ"
   },
   "outputs": [],
   "source": [
    "letra = 'a'\n",
    "palavra1 = 'linguagem de programação'\n",
    "palavra2 = 'Python'\n"
   ]
  },
  {
   "cell_type": "code",
   "execution_count": null,
   "metadata": {
    "colab": {
     "base_uri": "https://localhost:8080/",
     "height": 34
    },
    "executionInfo": {
     "elapsed": 846,
     "status": "ok",
     "timestamp": 1593711763551,
     "user": {
      "displayName": "Jones Granatyr",
      "photoUrl": "https://lh3.googleusercontent.com/a-/AOh14Gj-HFBSchv13C5VeiDZcZd2tVCvD_pOSKexaPmQ=s64",
      "userId": "10042675233362078631"
     },
     "user_tz": 180
    },
    "id": "AwZul8K-n3L-",
    "outputId": "dbb0fd0e-d82e-493a-91b7-0bab8f344335"
   },
   "outputs": [],
   "source": [
    "print(letra, palavra1)\n"
   ]
  },
  {
   "cell_type": "code",
   "execution_count": null,
   "metadata": {
    "colab": {
     "base_uri": "https://localhost:8080/",
     "height": 34
    },
    "executionInfo": {
     "elapsed": 794,
     "status": "ok",
     "timestamp": 1593711796985,
     "user": {
      "displayName": "Jones Granatyr",
      "photoUrl": "https://lh3.googleusercontent.com/a-/AOh14Gj-HFBSchv13C5VeiDZcZd2tVCvD_pOSKexaPmQ=s64",
      "userId": "10042675233362078631"
     },
     "user_tz": 180
    },
    "id": "DnEKLamYn7Vw",
    "outputId": "f64e92ce-b909-4bbf-9439-ecf5b7215768"
   },
   "outputs": [],
   "source": [
    "print('Estou aprendendo uma', palavra1)\n"
   ]
  },
  {
   "cell_type": "code",
   "execution_count": null,
   "metadata": {
    "colab": {
     "base_uri": "https://localhost:8080/",
     "height": 34
    },
    "executionInfo": {
     "elapsed": 710,
     "status": "ok",
     "timestamp": 1593711834881,
     "user": {
      "displayName": "Jones Granatyr",
      "photoUrl": "https://lh3.googleusercontent.com/a-/AOh14Gj-HFBSchv13C5VeiDZcZd2tVCvD_pOSKexaPmQ=s64",
      "userId": "10042675233362078631"
     },
     "user_tz": 180
    },
    "id": "07uhcWXEoGHs",
    "outputId": "35a9e0b5-4fa0-4f7b-abeb-5c29c8c12c69"
   },
   "outputs": [],
   "source": [
    "print('Esta', palavra1, 'se chama', palavra2)\n"
   ]
  },
  {
   "cell_type": "code",
   "execution_count": null,
   "metadata": {
    "colab": {
     "base_uri": "https://localhost:8080/",
     "height": 50
    },
    "executionInfo": {
     "elapsed": 3455,
     "status": "ok",
     "timestamp": 1593712063426,
     "user": {
      "displayName": "Jones Granatyr",
      "photoUrl": "https://lh3.googleusercontent.com/a-/AOh14Gj-HFBSchv13C5VeiDZcZd2tVCvD_pOSKexaPmQ=s64",
      "userId": "10042675233362078631"
     },
     "user_tz": 180
    },
    "id": "QbO7XNY3oQKk",
    "outputId": "efaf6847-684f-4aa7-f9d3-482e65202fda"
   },
   "outputs": [],
   "source": [
    "idade = int(input('Digite sua idade:'))\n",
    "print('Sua idade é ', idade)\n"
   ]
  },
  {
   "cell_type": "code",
   "execution_count": null,
   "metadata": {
    "colab": {
     "base_uri": "https://localhost:8080/",
     "height": 50
    },
    "executionInfo": {
     "elapsed": 6263,
     "status": "ok",
     "timestamp": 1593712100275,
     "user": {
      "displayName": "Jones Granatyr",
      "photoUrl": "https://lh3.googleusercontent.com/a-/AOh14Gj-HFBSchv13C5VeiDZcZd2tVCvD_pOSKexaPmQ=s64",
      "userId": "10042675233362078631"
     },
     "user_tz": 180
    },
    "id": "4Bmhcm_sogXZ",
    "outputId": "63336622-46d6-4314-adbd-4b0c709ba4a7"
   },
   "outputs": [],
   "source": [
    "pH = float(input('Qual o pH do solo durante a última medição?'))\n",
    "print('O pH medido foi ', pH)\n"
   ]
  },
  {
   "cell_type": "code",
   "execution_count": null,
   "metadata": {
    "colab": {
     "base_uri": "https://localhost:8080/",
     "height": 50
    },
    "executionInfo": {
     "elapsed": 3465,
     "status": "ok",
     "timestamp": 1593712116634,
     "user": {
      "displayName": "Jones Granatyr",
      "photoUrl": "https://lh3.googleusercontent.com/a-/AOh14Gj-HFBSchv13C5VeiDZcZd2tVCvD_pOSKexaPmQ=s64",
      "userId": "10042675233362078631"
     },
     "user_tz": 180
    },
    "id": "TWKEPsOHosFh",
    "outputId": "6b8e6a6c-6626-4624-8ca5-ddcaacca1d59"
   },
   "outputs": [],
   "source": [
    "nome = str(input('Qual o seu nome?'))\n",
    "print('Seu nome é', nome)\n"
   ]
  },
  {
   "cell_type": "code",
   "execution_count": null,
   "metadata": {
    "colab": {
     "base_uri": "https://localhost:8080/",
     "height": 34
    },
    "executionInfo": {
     "elapsed": 910,
     "status": "ok",
     "timestamp": 1593712070447,
     "user": {
      "displayName": "Jones Granatyr",
      "photoUrl": "https://lh3.googleusercontent.com/a-/AOh14Gj-HFBSchv13C5VeiDZcZd2tVCvD_pOSKexaPmQ=s64",
      "userId": "10042675233362078631"
     },
     "user_tz": 180
    },
    "id": "WS0kaS_jo5c2",
    "outputId": "705e3741-49c4-419f-9579-159f74f0cd87"
   },
   "outputs": [],
   "source": [
    "idade\n"
   ]
  }
 ],
 "metadata": {
  "colab": {
   "collapsed_sections": [],
   "provenance": [
    {
     "file_id": "1zHkg0u422FxA96zsOwEVcSf8X6GtEQ7G",
     "timestamp": 1663710394559
    },
    {
     "file_id": "1OcPF5e6sjgKVEQPGzL19A71ssota1w4_",
     "timestamp": 1593711227103
    },
    {
     "file_id": "1J7k-5VrHoAles48PYMnZIbiMJz5pQID3",
     "timestamp": 1593622099885
    }
   ]
  },
  "kernelspec": {
   "display_name": "Python 3 (ipykernel)",
   "language": "python",
   "name": "python3"
  },
  "language_info": {
   "codemirror_mode": {
    "name": "ipython",
    "version": 3
   },
   "file_extension": ".py",
   "mimetype": "text/x-python",
   "name": "python",
   "nbconvert_exporter": "python",
   "pygments_lexer": "ipython3",
   "version": "3.9.13"
  },
  "vscode": {
   "interpreter": {
    "hash": "d4c9de08fd092dab087d25ec3f36392a7f1516c650bf7d02941a00581fff2b3f"
   }
  }
 },
 "nbformat": 4,
 "nbformat_minor": 1
}
